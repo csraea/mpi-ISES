{
 "cells": [
  {
   "cell_type": "markdown",
   "metadata": {},
   "source": [
    "# NI-MPI - Domácí úkol ZS 2021/2022\n",
    "#### Author:   Oleksandr Korotetskyi\n",
    "#### Date:   27.11.2021\n"
   ]
  },
  {
   "cell_type": "markdown",
   "metadata": {},
   "source": [
    "## Results\n",
    "### Mandatory variants\n",
    "\n",
    "| Variant | Iterations | &nbsp;&nbsp;&nbsp;&nbsp;&nbsp;&nbsp;&nbsp;&nbsp;&nbsp;&nbsp;Variant&nbsp;&nbsp;&nbsp;&nbsp;&nbsp;&nbsp;&nbsp;&nbsp;&nbsp;&nbsp; | Comment |\n",
    "|:--------:|:-------------:|:--------------:|:--------------------------------:|\n",
    "| Jacobi a | 15            | $\\gamma = 5$   |                                  |\n",
    "| Jacobi b | 987           | $\\gamma = 2$   |                                  |\n",
    "| Jacobi c | -             | $\\gamma = 0.5$ | Iteration method does not converge |\n",
    "| Gauss-Seidel a | 10 | $\\gamma = 5$ |  |\n",
    "| Gauss-Seidel b | 495 | $\\gamma = 2$ |  |\n",
    "| Gauss-Seidel c | - | $\\gamma = 0.5$ | Iteration method does not converge |\n",
    "\n",
    "### Volitelné varianty s velikostí matice\n",
    "| Variant | Iterations | &nbsp;&nbsp;&nbsp;&nbsp;&nbsp;&nbsp;&nbsp;&nbsp;&nbsp;&nbsp;Variant&nbsp;&nbsp;&nbsp;&nbsp;&nbsp;&nbsp;&nbsp;&nbsp;&nbsp;&nbsp; | Comment |\n",
    "|:-:|:-:|:-:|:-:|\n",
    "| Jacobi 2.001 | 949 | $\\gamma = 2.001$ |  |\n",
    "| Jacobi 2.004 | 850 | $\\gamma = 2.004$ |  |\n",
    "| Jacobi 4 | 20 | $\\gamma = 4$   |  |\n",
    "| Jacobi 16 | 7 | $\\gamma = 16$   |  |\n",
    "| Jacobi 1024 | 3 | $\\gamma = 1024$ |  |\n",
    "| Gauss-Seidel $2.001$ | 476 | $\\gamma = 2.001$ |  |\n",
    "| Gauss-Seidel $2.004$ | 427 | $\\gamma = 2.004$ |  |\n",
    "| Gauss-Seidel 4 | 13 | $\\gamma = 4$ |  |\n",
    "| Gauss-Seidel 16 | 6 | $\\gamma = 16$ |  |\n",
    "| Gauss-Seidel 1024 | 2 | $\\gamma = 1024$ |  |\n",
    "| Gauss-Seidel $\\omega = 0.5$ | 1488 | $\\gamma = 2$, $\\omega = 0.5$ |  |\n",
    "| Gauss-Seidel $\\omega = 1.1$ | 405 | $\\gamma = 2$, $\\omega = 1.1$ |  |\n",
    "| Gauss-Seidel $\\omega = 1.5$ | 161 | $\\gamma = 2$, $\\omega = 1.5$ |  |\n",
    "| Gauss-Seidel $\\omega = 2$ | - | $\\gamma = 2$, $\\omega = 2$ | Iteration method does not converge |"
   ]
  },
  {
   "cell_type": "markdown",
   "metadata": {},
   "source": [
    "## Code\n",
    "\n",
    "The developed solution represents a toolchain for computing the number of iterations required to solve the system of equations using Jacobi and Gauss-Seigel methods. The toolchain itself consists of the following executables:\n",
    "1. `EquationSolver.py` - the very python3 script used for task-defined computation\n",
    "2. `run.sh` - bash script which is the core of a very toolchain. Is used for performing the calculations in the specified range of a Gamma variable.\n",
    "3. `plotter.py` - python3 script to produce the vizualization of iterations number dependence upon the Gamma value. \n",
    "\n",
    "#### _How to run the toolchain?_\n",
    "\n",
    "The toolchain requires some additional command line arguments to run:\n",
    "1. _start_ - the initial value of gamma\n",
    "2. _step_  - represents the increase of a gamma value per each iteration\n",
    "3. _stop_  - the final value of gamma to computate\n",
    "4. _omega_ - omega parameter used in Gauss-Seidel method (set to 1 by default)\n",
    "\n",
    "Example: `bash ./run.sh 2 0.01 2.2 1` (increase the gamma value from 2 by 0.01 per each iteration, until gamma reaches the value of 2.2, keeping _omega_ set to 1)\n",
    "\n",
    "#### _How it works?_\n",
    "The toolchain runs `EquationSolver.py` for each value of gamma in the specified range for both of Jacobi and Gauss-Seidel methods (omega is fixed), storing the results of each computation in temporary files. After all gammas in specified range were calculated, the script runs the visualization utility `plotter.py` which plots the number of iterations for each gamma value for both of methods.\n",
    "\n",
    "#### _How to run EquationSolver?_\n",
    "The very `EquationSolver.py` itself can be run without toolchain. Requires the following arguments:\n",
    "1. _gamma_ - gamma value to calculate for\n",
    "2. _method_ - `True` for Jacobi, `False` for Gauss-Seigel methods\n",
    "3. _omega_ - the omega value used in Gauss_Seigel method\n",
    "\n",
    "Example: `python3 EquationSolver.py 2.67 False 1`\n",
    "\n",
    "The demonstration of _EquationSolver_ is provided below.\n"
   ]
  },
  {
   "cell_type": "markdown",
   "metadata": {},
   "source": [
    "### EquationSolver\n"
   ]
  },
  {
   "cell_type": "code",
   "execution_count": 87,
   "metadata": {},
   "outputs": [],
   "source": [
    "import sys\n",
    "import numpy as np\n",
    "from pprint import pprint\n",
    "\n",
    "class EquationSolver:\n",
    "\n",
    "    # Initiates the instance for specific gamma value\n",
    "    def __init__(self, gamma):\n",
    "\n",
    "        sys.setrecursionlimit(10000)\n",
    "        \n",
    "        # matrix A\n",
    "        self.a = np.zeros((20, 20), dtype=np.float64)\n",
    "        np.fill_diagonal(self.a, gamma)\n",
    "        np.fill_diagonal(self.a[:, 1:], -1)\n",
    "        np.fill_diagonal(self.a[1:], -1)\n",
    "\n",
    "        # vector b\n",
    "        self.b = np.full((20, 1), gamma-2, dtype=np.float64)\n",
    "        self.b[0], self.b[-1] = gamma - 1, gamma - 1\n",
    "\n",
    "        # matrix D\n",
    "        self.d = np.diag(np.diag(self.a))\n",
    "\n",
    "        # matrix L\n",
    "        self.l = np.tril(self.a, -1)\n",
    "\n",
    "        # matrix U\n",
    "        self.u = self.a - self.d - self.l\n",
    "\n",
    "        # set default precision\n",
    "        self.precision = 10**-6\n",
    "\n",
    "\n",
    "    # Sets the calculation method\n",
    "    def set_method(self, method, omega = 1):\n",
    "\n",
    "        self.q = self.d if method else (self.d / omega) + self.l\n",
    "        self.q_inv = np.linalg.inv(self.q)\n",
    "        self.convergent = None\n",
    "        self.result = None\n",
    "        self.iterations = None\n",
    "\n",
    "        return self\n",
    "    \n",
    "\n",
    "    # Checks if iterative method is convergent and computes the result\n",
    "    def compute(self):\n",
    "\n",
    "        if not self.is_convergent():\n",
    "            self.result = []\n",
    "            self.iterations = 0\n",
    "        if self.iterations is None:\n",
    "            self.result, self.iterations = self.calculate()\n",
    "\n",
    "        return self.result, self.iterations\n",
    "\n",
    "\n",
    "    # Calculates convergence of iterative method\n",
    "    def is_convergent(self):\n",
    "\n",
    "        if self.convergent is None:                                                         \n",
    "            self.convergent = max(abs(np.linalg.eigvals(np.identity(20, dtype=np.float64) - (self.q_inv @ self.a)))) < 1\n",
    "\n",
    "        return self.convergent\n",
    "\n",
    "\n",
    "    # Calculate with the iterative method\n",
    "    def calculate(self, xn=None, idx=0):\n",
    "\n",
    "        if xn is None:\n",
    "            xn = np.zeros((20, 1), np.float64)\n",
    "        if self.is_precision_sufficient((self.a @ xn) - self.b):\n",
    "            return xn.transpose(), idx\n",
    "        \n",
    "        return self.calculate(self.calc_it(xn), idx + 1)\n",
    "\n",
    "    \n",
    "    # Checks whether the precision of resuslt is satisfactory\n",
    "    def is_precision_sufficient(self, result):\n",
    "\n",
    "        return self.precision > (np.linalg.norm(result) / np.linalg.norm(self.b))\n",
    "\n",
    "\n",
    "    # Calculates single iteration, derived into single function to reduce recursion\n",
    "    def calc_it(self, xn):\n",
    "\n",
    "        return (self.q_inv @ (((self.q - self.a) @ xn) + self.b))"
   ]
  },
  {
   "cell_type": "markdown",
   "metadata": {},
   "source": [
    "## Demonstration of functionality"
   ]
  },
  {
   "cell_type": "code",
   "execution_count": 90,
   "metadata": {
    "scrolled": false
   },
   "outputs": [
    {
     "name": "stdout",
     "output_type": "stream",
     "text": [
      "Method covergence: True\n",
      "array([[0.9999992 , 0.99999869, 0.99999839, 0.99999825, 0.99999824,\n",
      "        0.99999831, 0.99999843, 0.99999859, 0.99999877, 0.99999895,\n",
      "        0.99999912, 0.99999928, 0.99999943, 0.99999956, 0.99999967,\n",
      "        0.99999976, 0.99999984, 0.9999999 , 0.99999994, 0.99999998]])\n",
      "Iterations: 38\n"
     ]
    }
   ],
   "source": [
    "# Create a solver class and pass a gamma value as a parameter.\n",
    "es = EquationSolver(2.3)\n",
    "\n",
    "# Set the method which is used for a computation\n",
    "# True: Jacobi method; does not require additional parameters\n",
    "# False: Gauss-Seidl method; is to be set with the optional parameter omega (defult value is 1)\n",
    "es.set_method(False, 1.1)\n",
    "\n",
    "# Start the very calculation\n",
    "result, iterations = es.compute() # compute the approximation of the equation using the iterative method\n",
    "\n",
    "# Get information about the convergence of the iteration method\n",
    "# Retuens True if the method converges, elsewise returns False\n",
    "print(\"Method covergence: \" + str(es.is_convergent()))\n",
    "\n",
    "# Print the result of an approximation\n",
    "pprint(result)\n",
    "\n",
    "# Print the number of iterations\n",
    "print(\"Iterations: \" + str(iterations))"
   ]
  },
  {
   "cell_type": "markdown",
   "metadata": {},
   "source": [
    "## Conclusion\n",
    "\n"
   ]
  },
  {
   "cell_type": "markdown",
   "metadata": {},
   "source": [
    "![plot](results.png \"plot\")\n",
    "\n",
    "In conclusion, it appears that Gauss-Seidel method takes the smaller number of iterations to solve the system of equations comparely to Jacobi method. The decrease of _omega_ (< 1) value in the case of Gauss-Seidel method increases the number of iterations required. In contrast, the increse reduces (up to 2)."
   ]
  }
 ],
 "metadata": {
  "kernelspec": {
   "display_name": "Python 3",
   "language": "python",
   "name": "python3"
  },
  "language_info": {
   "codemirror_mode": {
    "name": "ipython",
    "version": 3
   },
   "file_extension": ".py",
   "mimetype": "text/x-python",
   "name": "python",
   "nbconvert_exporter": "python",
   "pygments_lexer": "ipython3",
   "version": "3.8.10"
  }
 },
 "nbformat": 4,
 "nbformat_minor": 2
}
